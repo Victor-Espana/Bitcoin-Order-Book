{
 "cells": [
  {
   "cell_type": "markdown",
   "metadata": {},
   "source": [
    "# Script para la obtención de datos"
   ]
  },
  {
   "cell_type": "markdown",
   "metadata": {},
   "source": [
    "<div align = \"justify\">\n",
    "El presente script esta destinado a la recolección de datos correspondientes al Order Book de diferentes criptomonedas, a su procesamiento y a la exportación de los datos resultantes a ficheros csv. El programa de extracción de datos se basa en los pasos descritos en el enlace [1] y los datos extraidos proceden de [2].\n",
    "</div>"
   ]
  },
  {
   "cell_type": "markdown",
   "metadata": {},
   "source": [
    "[1] <br>\n",
    "https://tiao.io/post/exploring-the-binance-cryptocurrency-exchange-api-orderbook/# <br>\n",
    "\n",
    "[2] <br> \n",
    "https://www.binance.com/en/trade/ETH_BUSD?type=spot"
   ]
  },
  {
   "cell_type": "code",
   "execution_count": 1,
   "metadata": {},
   "outputs": [],
   "source": [
    "# API \n",
    "import requests\n",
    "\n",
    "# Tratamiento base de datos\n",
    "import pandas as pd\n",
    "\n",
    "# Tiempo\n",
    "from datetime import datetime, date, timedelta\n",
    "import time"
   ]
  },
  {
   "cell_type": "code",
   "execution_count": 13,
   "metadata": {},
   "outputs": [],
   "source": [
    "def get_data(depth, crpt):\n",
    "    \n",
    "    # depth: profundidad del Order Book por lado\n",
    "    # crpt: criptomoneda (ETHBUSD, BTCBUSD, ...)\n",
    "    \n",
    "    # Momento temporal actual\n",
    "    tdy = datetime.now()\n",
    "    # año-mes-dia\n",
    "    filetdy = tdy.strftime(\"%y\") + tdy.strftime(\"%m\") + tdy.strftime(\"%d\")\n",
    "    # hora-mes\n",
    "    filemmn = tdy.strftime(\"%H\") + '_' + tdy.strftime(\"%M\")\n",
    "    \n",
    "    # ====================== #\n",
    "    #  Order Book DataFrame  #\n",
    "    # ====================== #\n",
    "    \n",
    "    # Consulta a Biannce\n",
    "    ob = requests.get(\"https://api.binance.com/api/v3/depth\", params = dict(symbol = crpt, limit = depth)) \n",
    "    obResults = ob.json()\n",
    "    \n",
    "    # Transformamos los datos de formato JSON a DataFrame\n",
    "    frames = {side: pd.DataFrame(data = obResults[side], columns = [\"price\", \"quantity\"], dtype = float) \n",
    "              for side in [\"bids\", \"asks\"]}\n",
    "\n",
    "    frames_list = [frames[side].assign(side = side) for side in frames]\n",
    "    obData = pd.concat(frames_list, axis = \"index\", ignore_index = True, sort = True)\n",
    "    \n",
    "    # Momento exacto de la foto del Order Book\n",
    "    obData['date'] = datetime.now().strftime(\"%Y-%m-%d, %H:%M:%S\")\n",
    "    \n",
    "    # Criptomoneda\n",
    "    obData['crpt'] = crpt\n",
    "    \n",
    "    # Escribimos en formato feather\n",
    "    obData.to_feather('Order_Book/' + crpt + '/' + 'OB_' + crpt + '_' + filetdy + '_' + filemmn + '.ftr')\n",
    "    \n",
    "    # ============ #\n",
    "    #     Price    #\n",
    "    # ============ #\n",
    "    \n",
    "    # El código para la obtención de los precios sería el siguiente. No obstante, tal y cómo se ha indicado en el TFM, por \n",
    "    # motivos de asociación temporal entre las instantáneas del Order Book y el precio real de la criptomoneda, se opta por\n",
    "    # utilizar el mid-price.\n",
    "    \n",
    "    # prc = requests.get(\"https://api.binance.com/api/v3/trades\", params = dict(symbol = crpt))\n",
    "    # prcResults = prc.json()\n",
    "    \n",
    "    # prcData = pd.DataFrame(data = prcResults, columns = ['price', 'qty', 'quoteQty', 'time'])\n",
    "    \n",
    "    # Convertimos timestamp a la fecha actual (sumamos 2 horas para ajustar zona horaria)\n",
    "    # prcData['date'] = (prcData['time'] / 1000).astype('datetime64[s]') + timedelta(hours = 2)\n",
    "    \n",
    "    # Escribimos en formato feather\n",
    "    # prcData.to_feather('Prices/' + crpt + '/' + 'PRC_' + crpt + '_' + filetdy + '_' + filemmn + '.ftr')"
   ]
  },
  {
   "cell_type": "code",
   "execution_count": null,
   "metadata": {},
   "outputs": [],
   "source": [
    "# Para bitcoin y ethereum, ejecutamos el programa cada minuto.\n",
    "\n",
    "starttime = time.time()\n",
    "while True:\n",
    "    for cr in ['ETHBUSD', 'BTCBUSD']:\n",
    "        get_data(5000, cr)    \n",
    "    time.sleep(60.0 - ((time.time() - starttime) % 60.0))"
   ]
  }
 ],
 "metadata": {
  "kernelspec": {
   "display_name": "Python 3",
   "language": "python",
   "name": "python3"
  },
  "language_info": {
   "codemirror_mode": {
    "name": "ipython",
    "version": 3
   },
   "file_extension": ".py",
   "mimetype": "text/x-python",
   "name": "python",
   "nbconvert_exporter": "python",
   "pygments_lexer": "ipython3",
   "version": "3.8.3"
  },
  "varInspector": {
   "cols": {
    "lenName": 16,
    "lenType": 16,
    "lenVar": 40
   },
   "kernels_config": {
    "python": {
     "delete_cmd_postfix": "",
     "delete_cmd_prefix": "del ",
     "library": "var_list.py",
     "varRefreshCmd": "print(var_dic_list())"
    },
    "r": {
     "delete_cmd_postfix": ") ",
     "delete_cmd_prefix": "rm(",
     "library": "var_list.r",
     "varRefreshCmd": "cat(var_dic_list()) "
    }
   },
   "types_to_exclude": [
    "module",
    "function",
    "builtin_function_or_method",
    "instance",
    "_Feature"
   ],
   "window_display": false
  }
 },
 "nbformat": 4,
 "nbformat_minor": 4
}
